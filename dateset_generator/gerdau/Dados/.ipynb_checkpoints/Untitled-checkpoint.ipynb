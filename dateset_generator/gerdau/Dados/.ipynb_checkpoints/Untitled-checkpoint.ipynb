{
 "cells": [
  {
   "cell_type": "code",
   "execution_count": 1,
   "id": "a3d72151-85e3-4858-adf6-2800296a1cbb",
   "metadata": {},
   "outputs": [],
   "source": [
    "import pandas as pd\n",
    "    "
   ]
  },
  {
   "cell_type": "code",
   "execution_count": 33,
   "id": "a5fb49f0-2f99-45ae-97c5-8f53d724f0b4",
   "metadata": {},
   "outputs": [],
   "source": [
    "def perfil_gerdau_W(name):\n",
    "    dados = pd.read_excel('Perfis.xlsx')\n",
    "    features = dados[dados['BITOLA'] == name]\n",
    "    features = features.to_dict()\n",
    "\n",
    "    for chave in features.keys():\n",
    "        for key, value in features[chave].items():\n",
    "            features[chave] = value\n",
    "    return features"
   ]
  },
  {
   "cell_type": "code",
   "execution_count": 35,
   "id": "0c696506-3bf1-41fd-bad7-a5db0d189a50",
   "metadata": {},
   "outputs": [],
   "source": [
    "saida = perfil_gerdau_W(\"W 150 x 13,0\")\n",
    "saida"
   ]
  },
  {
   "cell_type": "code",
   "execution_count": null,
   "id": "a8c1fcf9-5a81-4d69-bea8-09091fc2b519",
   "metadata": {},
   "outputs": [],
   "source": []
  }
 ],
 "metadata": {
  "kernelspec": {
   "display_name": "Python 3 (ipykernel)",
   "language": "python",
   "name": "python3"
  },
  "language_info": {
   "codemirror_mode": {
    "name": "ipython",
    "version": 3
   },
   "file_extension": ".py",
   "mimetype": "text/x-python",
   "name": "python",
   "nbconvert_exporter": "python",
   "pygments_lexer": "ipython3",
   "version": "3.9.18"
  }
 },
 "nbformat": 4,
 "nbformat_minor": 5
}
