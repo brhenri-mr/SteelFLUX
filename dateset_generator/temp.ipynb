{
 "cells": [
  {
   "cell_type": "code",
   "execution_count": 1,
   "id": "a5d32ca5",
   "metadata": {},
   "outputs": [
    {
     "name": "stdout",
     "output_type": "stream",
     "text": [
      "Requirement already satisfied: sqlalchemy in c:\\users\\breno hm rodrigues\\.ai-navigator\\conda\\lib\\site-packages (2.0.41)\n",
      "Requirement already satisfied: greenlet>=1 in c:\\users\\breno hm rodrigues\\.ai-navigator\\conda\\lib\\site-packages (from sqlalchemy) (3.2.2)\n",
      "Requirement already satisfied: typing-extensions>=4.6.0 in c:\\users\\breno hm rodrigues\\.ai-navigator\\conda\\lib\\site-packages (from sqlalchemy) (4.12.2)\n"
     ]
    }
   ],
   "source": [
    "!pip install sqlalchemy"
   ]
  },
  {
   "cell_type": "code",
   "execution_count": null,
   "id": "667370de",
   "metadata": {},
   "outputs": [],
   "source": []
  },
  {
   "cell_type": "code",
   "execution_count": 2,
   "id": "ee1f4e03",
   "metadata": {},
   "outputs": [],
   "source": [
    "import os\n",
    "from sqlalchemy import create_engine\n",
    "import pandas as pd\n",
    "\n",
    "\n",
    "class CustomeDataSet():\n",
    "    def __init__(self, traindata_url, transform=None, size=(768, 768)):\n",
    "        # Recuperando dados com dataframe --> Pelo visto é a melhor forma ...\n",
    "        self.df = pd.read_sql(\"SELECT * FROM dados_table\", con=create_engine(f'sqlite:///{traindata_url}/database.db') )\n",
    "        self.traindata_url = traindata_url # path da pasta com os dados\n",
    "        self.nome_perfil = self.df['nome_perfil'] # Serie com os nome dos perfis\n",
    "        self.solicitacao = self.df['solicitacao'] # Serie com as solicitacoes utilizadas\n",
    "        self.img_uuid = self.df['uuid'] # Identificador unico da aplicação\n",
    "        self.size = size # Tamanho padrão da imagem\n",
    "        self.transform = transform # Transformações a serem aplicadas nas imagens\n",
    "\n",
    "\n",
    "    def __len__(self):\n",
    "        return len(self.df)\n",
    "\n",
    "\n",
    "    def __getitem__(self, index):\n",
    "\n",
    "        # Recuperando uuid do elemento\n",
    "        uuid_str = self.img_uuid[index]\n",
    "        img_uuid = f\"{uuid_str[:8]}-{uuid_str[8:12]}-{uuid_str[12:16]}-{uuid_str[16:20]}-{uuid_str[20:]}\"\n",
    "\n",
    "        # Carregando as imagens\n",
    "        img_root = os.path.join('data', 'img', f'{img_uuid}.png')\n",
    "        img_mask = os.path.join('data', 'mask', f'{img_uuid}.png')\n",
    "        img_raw = os.path.join('data', 'raw', f'{img_uuid}.png')\n",
    "\n",
    "        # Escrevendo o propmt da imagem\n",
    "        \n",
    "        caption = f'Complete the masked region on the left with the cross-sectional view and the masked region on the right with the plan view of a steel structural connection between an I-beam {self.nome_perfil[index]} and an H-column, designed for a vertical load of {self.solicitacao[index]} kN. Use technical representation according to structural drawing standards, including visible profiles, bolts, and connection plates. Both views must correspond to the same connection.'\n",
    "\n",
    "        # Aplicando alguma transformação as imagens\n",
    "        if self.transform:\n",
    "            img_root = self.transform.image_processor.preprocess(img_root, height=height, width=width).to(device='cuda', dtype=torch.float16)\n",
    "            img_mask = self.transform.image_processor.preprocess(img_mask, height=height, width=width).to(device='cuda', dtype=torch.float16)\n",
    "            img_raw = self.transform.image_processor.preprocess(img_raw, height=height, width=width).to(device='cuda', dtype=torch.float16)\n",
    "\n",
    "        return caption, img_root, img_mask, img_raw"
   ]
  },
  {
   "cell_type": "code",
   "execution_count": 3,
   "id": "c66332a0",
   "metadata": {},
   "outputs": [],
   "source": [
    "dados = CustomeDataSet(r'C:\\Users\\Breno HM Rodrigues\\Desktop\\Data')"
   ]
  },
  {
   "cell_type": "code",
   "execution_count": 4,
   "id": "4b232ff8",
   "metadata": {},
   "outputs": [
    {
     "name": "stdout",
     "output_type": "stream",
     "text": [
      "Arquivo 'data/train.csv' salvo com sucesso!\n"
     ]
    }
   ],
   "source": [
    "\n",
    "# Escreve o arquivo com separador \"#;#\"\n",
    "with open(\"data/train.csv\", \"w\", encoding=\"utf-8\") as f:\n",
    "    for i in range(10):\n",
    "        caption, img_root, img_mask, img_raw = dados[i]\n",
    "        linha = \"#;#\".join([\n",
    "            img_raw.replace('\\\\', '/'),\n",
    "            img_mask.replace('\\\\', '/'),\n",
    "            '',\n",
    "            img_root.replace('\\\\', '/'),\n",
    "            caption,\n",
    "            'local_editing'\n",
    "        ])\n",
    "        f.write(linha + \"\\n\")\n",
    "\n",
    "print(\"Arquivo 'data/train.csv' salvo com sucesso!\")"
   ]
  }
 ],
 "metadata": {
  "kernelspec": {
   "display_name": "Python 3",
   "language": "python",
   "name": "python3"
  },
  "language_info": {
   "codemirror_mode": {
    "name": "ipython",
    "version": 3
   },
   "file_extension": ".py",
   "mimetype": "text/x-python",
   "name": "python",
   "nbconvert_exporter": "python",
   "pygments_lexer": "ipython3",
   "version": "3.12.4"
  }
 },
 "nbformat": 4,
 "nbformat_minor": 5
}
