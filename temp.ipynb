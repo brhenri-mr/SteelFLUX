{
 "cells": [
  {
   "cell_type": "code",
   "execution_count": 1,
   "id": "a5d32ca5",
   "metadata": {},
   "outputs": [
    {
     "name": "stdout",
     "output_type": "stream",
     "text": [
      "Requirement already satisfied: sqlalchemy in c:\\users\\breno hm rodrigues\\anaconda3\\lib\\site-packages (2.0.30)\n",
      "Requirement already satisfied: typing-extensions>=4.6.0 in c:\\users\\breno hm rodrigues\\anaconda3\\lib\\site-packages (from sqlalchemy) (4.15.0)\n",
      "Requirement already satisfied: greenlet!=0.4.17 in c:\\users\\breno hm rodrigues\\anaconda3\\lib\\site-packages (from sqlalchemy) (3.0.1)\n"
     ]
    },
    {
     "name": "stderr",
     "output_type": "stream",
     "text": [
      "DEPRECATION: tensorflow-examples e3849ccb6d981aad311f0174281c8575d5e21646- has a non-standard version number. pip 24.1 will enforce this behaviour change. A possible replacement is to upgrade to a newer version of tensorflow-examples or contact the author to suggest that they release a version with a conforming version number. Discussion can be found at https://github.com/pypa/pip/issues/12063\n"
     ]
    }
   ],
   "source": [
    "!pip install sqlalchemy"
   ]
  },
  {
   "cell_type": "code",
   "execution_count": 4,
   "id": "ee1f4e03",
   "metadata": {},
   "outputs": [],
   "source": [
    "import os\n",
    "from sqlalchemy import create_engine\n",
    "import pandas as pd\n",
    "\n",
    "\n",
    "class CustomeDataSet():\n",
    "    def __init__(self, traindata_url, tipo_dados='EndPlate', transform=None, size=(768, 768)):\n",
    "        # Recuperando dados com dataframe --> Pelo visto é a melhor forma ...\n",
    "        self.df = pd.read_sql(f\"SELECT * FROM dados_table WHERE name='{tipo_dados}'\", con=create_engine(f'sqlite:///{traindata_url}/database.db') )\n",
    "        self.traindata_url = traindata_url # path da pasta com os dados\n",
    "        self.nome_perfil = self.df['nome_perfil'] # Serie com os nome dos perfis\n",
    "        self.solicitacao = self.df['solicitacao'] # Serie com as solicitacoes utilizadas\n",
    "        self.img_uuid = self.df['uuid'] # Identificador unico da aplicação\n",
    "        self.viga = self.df['nome_perfil']\n",
    "        self.coluna = self.df['nome_perfil']\n",
    "        self.fs = self.df['fs']\n",
    "        self.qntd_parafusos = self.df['qntd_parafusos']\n",
    "        self.carregamento = self.df['solicitacao']\n",
    "        self.bitola = self.df['bitola_parafuso']\n",
    "        self.size = size # Tamanho padrão da imagem\n",
    "        self.transform = transform # Transformações a serem aplicadas nas imagens\n",
    "\n",
    "\n",
    "    def __len__(self):\n",
    "        return len(self.df)\n",
    "\n",
    "\n",
    "    def __getitem__(self, index:int):\n",
    "\n",
    "        # Recuperando uuid do elemento\n",
    "        uuid_str = self.img_uuid[index]\n",
    "        img_uuid = f\"{uuid_str[:8]}-{uuid_str[8:12]}-{uuid_str[12:16]}-{uuid_str[16:20]}-{uuid_str[20:]}\"\n",
    "\n",
    "        # Escrevendo o propmt da imagem\n",
    "        \n",
    "        caption = f'Complete the masked region on the left with the cross-sectional view, and the masked region on the right with the plan detail of a steel structural connection between an I-beam and an I-column, designed for a vertical load of {self.carregamento[index]} kN.Use the following information: seção viga: {self.viga[index]}, Bitola do parafuso: {self.bitola[index]}, quantidade de parafusos: {self.qntd_parafusos[index]}, FS: {self.fs[index]}. Use technical representation according to structural drawing standards, including visible profiles, bolts, and connection plates.'\n",
    "\n",
    "\n",
    "        return caption, img_uuid"
   ]
  },
  {
   "cell_type": "code",
   "execution_count": 6,
   "id": "a9cb55c3",
   "metadata": {},
   "outputs": [
    {
     "data": {
      "text/plain": [
       "('Complete the masked region on the left with the cross-sectional view, and the masked region on the right with the plan detail of a steel structural connection between an I-beam and an I-column, designed for a vertical load of 50.0 kN.Use the following information: seção viga: W150x13, Bitola do parafuso: 16, quantidade de parafusos: 2, FS: 0.5086628152794952. Use technical representation according to structural drawing standards, including visible profiles, bolts, and connection plates.',\n",
       " '53b460cc-78a3-48ca-9023-4bd2f08fe7fa')"
      ]
     },
     "execution_count": 6,
     "metadata": {},
     "output_type": "execute_result"
    }
   ],
   "source": [
    "dados = CustomeDataSet(r'C:\\Users\\Breno HM Rodrigues\\Desktop\\Data', tipo_dados='LLCP')\n",
    "dados[0]"
   ]
  },
  {
   "cell_type": "code",
   "execution_count": 12,
   "id": "4b232ff8",
   "metadata": {},
   "outputs": [
    {
     "name": "stdout",
     "output_type": "stream",
     "text": [
      "327\n",
      "57\n",
      "12\n",
      "140\n",
      "125\n",
      "114\n",
      "71\n",
      "52\n",
      "279\n",
      "44\n",
      "302\n",
      "216\n",
      "16\n",
      "15\n",
      "47\n",
      "111\n",
      "119\n",
      "258\n",
      "308\n",
      "13\n",
      "287\n",
      "101\n",
      "332\n",
      "279\n",
      "112\n",
      "229\n",
      "301\n",
      "142\n",
      "3\n",
      "81\n",
      "216\n",
      "142\n",
      "110\n",
      "Arquivo 'data/train.csv' salvo com sucesso!\n"
     ]
    }
   ],
   "source": [
    "import random\n",
    "\n",
    "random.seed(42)  # define a seed fixa\n",
    "\n",
    "samples = 100\n",
    "\n",
    "already_in = []\n",
    "\n",
    "LLCP = True\n",
    "\n",
    "# Escreve o arquivo com separador \"#;#\"\n",
    "with open(\"data/train.csv\", \"w\", encoding=\"utf-8\") as f:\n",
    "    for i in range(samples//3):\n",
    "        if i>samples//3*0.5:\n",
    "            dados = CustomeDataSet(r'C:\\Users\\Breno HM Rodrigues\\Desktop\\Data', tipo_dados='EndPlate')\n",
    "        else:\n",
    "            dados = CustomeDataSet(r'C:\\Users\\Breno HM Rodrigues\\Desktop\\Data', tipo_dados='LLCP')\n",
    "            if LLCP:\n",
    "                already_in = []\n",
    "                LLCP = False\n",
    "            \n",
    "        # Garantindo que não siga nenhuma sequência\n",
    "        new_date = random.randint(0,len(dados))\n",
    "        print(new_date)\n",
    "        while new_date in already_in:\n",
    "           \n",
    "            new_date = random.randint(0,len(dados))\n",
    "            \n",
    "        caption, img_uuid  = dados[new_date]\n",
    "        already_in.append(new_date)\n",
    "        \n",
    "        for el in ['top','lateral','frontal']:\n",
    "            img_target = os.path.join('data','data_train','img',el, f'{img_uuid}.png')\n",
    "            img_mask = os.path.join('data','data_train','mask',el, f'{img_uuid}.png')\n",
    "            img_base = os.path.join('data','data_train','base',el, f'{img_uuid}.png')\n",
    "  \n",
    "            \n",
    "            linha = \"#;#\".join([\n",
    "                img_base.replace('\\\\', '/'),\n",
    "                img_mask.replace('\\\\', '/'),\n",
    "                '',\n",
    "                img_target.replace('\\\\', '/'),\n",
    "                caption,\n",
    "                'local_editing'\n",
    "            ])\n",
    "            f.write(linha + \"\\n\")\n",
    "\n",
    "print(\"Arquivo 'data/train.csv' salvo com sucesso!\")"
   ]
  },
  {
   "cell_type": "code",
   "execution_count": null,
   "id": "2aca6294-6fc5-4663-b225-6ff1c3c0094f",
   "metadata": {},
   "outputs": [],
   "source": []
  },
  {
   "cell_type": "code",
   "execution_count": null,
   "id": "872b90e1-be5c-4473-8484-36ac0a097ebc",
   "metadata": {},
   "outputs": [],
   "source": []
  }
 ],
 "metadata": {
  "kernelspec": {
   "display_name": "Python 3 (ipykernel)",
   "language": "python",
   "name": "python3"
  },
  "language_info": {
   "codemirror_mode": {
    "name": "ipython",
    "version": 3
   },
   "file_extension": ".py",
   "mimetype": "text/x-python",
   "name": "python",
   "nbconvert_exporter": "python",
   "pygments_lexer": "ipython3",
   "version": "3.9.18"
  },
  "widgets": {
   "application/vnd.jupyter.widget-state+json": {
    "state": {},
    "version_major": 2,
    "version_minor": 0
   }
  }
 },
 "nbformat": 4,
 "nbformat_minor": 5
}
